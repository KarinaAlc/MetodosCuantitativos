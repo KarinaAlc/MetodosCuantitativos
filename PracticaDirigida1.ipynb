{
 "cells": [
  {
   "cell_type": "markdown",
   "metadata": {},
   "source": [
    "\n",
    "# Práctica Dirigida 1  \n",
    "**Curso:** Métodos Cuantitativos en Ciencias Sociales (1REI45)  \n",
    "**Facultad de Ciencias Sociales - PUCP**  "
   ]
  },
  {
   "cell_type": "markdown",
   "metadata": {},
   "source": [
    "1. ¿Qué es Python?\n",
    "\n",
    "Python es un lenguaje de programación de alto nivel, fácil de leer y escribir, \n",
    "que ejecuta instrucciones línea por línea mediante un intérprete escrito en C. \n",
    "Es de código abierto, versátil y ampliamente utilizado en áreas como análisis \n",
    "de datos, estadística, automatización, inteligencia artificial y desarrollo web.\n",
    "\n",
    "\n",
    "2. ¿Qué es Spyder?\n",
    "\n",
    "Spyder (Scientific Python Development Environment) es un entorno de \n",
    "desarrollo integrado (IDE) especializado en análisis de datos y \n",
    "programación científica en Python.\n",
    "\n",
    "Incluye:\n",
    "    \n",
    "- Editor de código con resaltado de sintaxis y autocompletado.\n",
    "- Consola interactiva para ejecutar comandos en tiempo real.\n",
    "- Explorador de variables para visualizar y gestionar datos.\n",
    "- Paneles de ayuda y documentación integrada.\n",
    "\n",
    "\n",
    "3. ¿Por qué usamos Spyder para programar en Python?\n",
    "\n",
    "Aunque Python puede escribirse en cualquier editor y ejecutarse desde la línea \n",
    "de comandos, el uso de un IDE o editor avanzado, como Spyder, facilita la \n",
    "programación, especialmente en proyectos grandes.\n",
    "\n",
    "Sus ventajas incluyen:\n",
    "\n",
    "- Mejor legibilidad y escritura del código: resaltado de sintaxis, gestión \n",
    "automática de la indentación y visibilidad de errores comunes.\n",
    "- Depuración más sencilla: mensajes de error claros, herramientas para ejecutar \n",
    "el código paso a paso, inspeccionar variables y usar puntos de interrupción.\n",
    "- Gestión de proyectos complejos: organización de múltiples archivos, \n",
    "integración de librerías y módulos, y soporte para programación orientada a objetos.\n",
    "\n",
    "\n",
    "4. Instalación y configuración\n",
    "\n",
    "1) Instalar Anaconda (recomendado) desde https://www.anaconda.com\n",
    "2) Esto incluye Python, Spyder y librerías científicas como NumPy, Pandas \n",
    "    y Matplotlib.\n",
    "3) Abrir Spyder desde el menú de aplicaciones de Anaconda.\n",
    "4) Configurar el idioma y el tema de la interfaz según preferencia.\n",
    "\n",
    "5. Primeros pasos en Python con Spyder\n",
    "En el Editor, escribir el siguiente código y guardarlo con extensión .py:"
   ]
  },
  {
   "cell_type": "markdown",
   "metadata": {},
   "source": [
    "Ejemplo más utilizado en en Python"
   ]
  },
  {
   "cell_type": "code",
   "execution_count": 1,
   "metadata": {},
   "outputs": [
    {
     "name": "stdout",
     "output_type": "stream",
     "text": [
      "Hola, mundo\n"
     ]
    }
   ],
   "source": [
    "print(\"Hola, mundo\")"
   ]
  },
  {
   "cell_type": "markdown",
   "metadata": {},
   "source": [
    "Presionar F5 o el botón ▶️ para ejecutar el script.\n",
    "\n",
    "Verificar el resultado en la Consola de IPython."
   ]
  },
  {
   "cell_type": "markdown",
   "metadata": {},
   "source": [
    "5. Conceptos básicos para programar en Python\n",
    "\n",
    "5.1. Configurar el directorio de trabajo\n",
    "\n",
    "Python funciona como un entorno temporal de trabajo, lo que significa que el\n",
    " usuario va creando variables, cargando datos y ejecutando código en memoria. \n",
    "\n",
    "Sin embargo, si estos datos o resultados no se guardan en archivos, se perderán \n",
    "al cerrar la sesión. Por ello, es importante configurar una carpeta \n",
    "predeterminada en nuestro ordenador, donde Python buscará y guardará archivos \n",
    "por defecto.\n",
    "\n",
    "Para ver el directorio de trabajo actual, escribimos el siguiente código en la \n",
    "consola de Python o en una celda:"
   ]
  },
  {
   "cell_type": "code",
   "execution_count": 2,
   "metadata": {},
   "outputs": [],
   "source": [
    "import os"
   ]
  },
  {
   "cell_type": "markdown",
   "metadata": {},
   "source": [
    "Ver directorio de trabajo actual"
   ]
  },
  {
   "cell_type": "code",
   "execution_count": 3,
   "metadata": {},
   "outputs": [
    {
     "data": {
      "text/plain": [
       "'/Users/Karina/Métodos Cuantitativos'"
      ]
     },
     "execution_count": 3,
     "metadata": {},
     "output_type": "execute_result"
    }
   ],
   "source": [
    "os.getcwd()"
   ]
  },
  {
   "cell_type": "markdown",
   "metadata": {},
   "source": [
    "Cambiar directorio de trabajo\n",
    "os.chdir(\"C:/ruta/a/otra/carpeta\")"
   ]
  },
  {
   "cell_type": "markdown",
   "metadata": {},
   "source": [
    "En Spyder, también podemos hacerlo desde el menú:\n",
    "1. Console > Current Working Directory (barra superior de Spyder, junto al \n",
    "                                        ícono de carpeta)\n",
    "2. Elegimos la carpeta deseada y esta será el nuevo directorio predeterminado \n",
    "para la sesión.\n",
    "\n",
    "3. Para verificar el cambio, volvemos a ejecutar:"
   ]
  },
  {
   "cell_type": "markdown",
   "metadata": {},
   "source": [
    "os.getcwd()"
   ]
  },
  {
   "cell_type": "markdown",
   "metadata": {},
   "source": [
    "5. Librerías esenciales para estadística\n",
    "En Python, el análisis estadístico se apoya en librerías como:\n",
    "\n",
    "    - NumPy → manejo de arreglos y cálculos matemáticos.\n",
    "    - Pandas → manejo de datos en tablas (DataFrames).\n",
    "    - Matplotlib y Seaborn → visualización de datos.\n",
    "    - Statsmodels y Scikit-learn → modelado estadístico y machine learning."
   ]
  },
  {
   "cell_type": "code",
   "execution_count": 4,
   "metadata": {},
   "outputs": [],
   "source": [
    "import pandas as pd\n",
    "import numpy as np"
   ]
  },
  {
   "cell_type": "code",
   "execution_count": 5,
   "metadata": {},
   "outputs": [
    {
     "name": "stdout",
     "output_type": "stream",
     "text": [
      "--------------------------------------------------\n"
     ]
    }
   ],
   "source": [
    "print(\"-\" * 50) #Solo para separar las secciones, es un recurso de estilo"
   ]
  },
  {
   "cell_type": "markdown",
   "metadata": {},
   "source": [
    "Crear un DataFrame simple"
   ]
  },
  {
   "cell_type": "code",
   "execution_count": 6,
   "metadata": {},
   "outputs": [
    {
     "name": "stdout",
     "output_type": "stream",
     "text": [
      "--------------------------------------------------\n"
     ]
    }
   ],
   "source": [
    "data_libros = pd.DataFrame({\n",
    "    'Edad': [23, 25, 30, 22],\n",
    "    'Libros_leidos': [10, 15, 7, 20]})\n",
    "print(\"-\" * 50)"
   ]
  },
  {
   "cell_type": "markdown",
   "metadata": {},
   "source": [
    "Puedes visualizar el nuevo objeto, \"data\", creado en el Explorador"
   ]
  },
  {
   "cell_type": "markdown",
   "metadata": {},
   "source": [
    "6.  Sintaxis en Python\n",
    "\n",
    "En Python, la sintaxis es el conjunto de reglas que determinan cómo debe \n",
    "escribirse el código, es decir, la manera en la que hablaremos con Python. \n",
    "\n",
    "6.1. Palabras reservadas\n",
    "Python tiene palabras reservadas que son reconocidas por el programa y están\n",
    "diseñadas para gatillar funciones específicas y que por ende no deberían ser\n",
    "usadas para la creación de variables, estas son:\n",
    "\n",
    "• and\n",
    "• as\n",
    "• assert\n",
    "• break\n",
    "• class\n",
    "• continue\n",
    "• def\n",
    "• del\n",
    "• elif\n",
    "• else\n",
    "• except\n",
    "• False\n",
    "• finally\n",
    "• for\n",
    "• from\n",
    "• global\n",
    "• if\n",
    "• import\n",
    "• in\n",
    "• is\n",
    "• lambda\n",
    "• None\n",
    "• nonlocal\n",
    "• not\n",
    "• or\n",
    "• pass\n",
    "• raise\n",
    "• return\n",
    "• True\n",
    "• try\n",
    "• while\n",
    "• with\n",
    "• yield\n",
    "\n",
    "6.2. Variables\n",
    "\n",
    "Una variable es un nombre que hace referencia a un valor almacenado en \n",
    "memoria.Se crean con una sentencia de asignación: nombre = valor. El tipo \n",
    "de la variable depende del valor asignado (int, str, etc.). Es necesario \n",
    "inicializarlas antes de usarlas, o se producirá un NameError.\n",
    "    \n",
    "   6.2.1. Tipos de datos\n",
    "   Se refiere a la naturaleza de los datos que usamos para comunicarnos con \n",
    "   Python y que pueden ser reconocidos por el programa:\n",
    "   - int (Entero): Números sin parte decimal. Ej.: 17\n",
    "   - str (Cadena): Texto entre comillas simples o dobles. Ej.: \"Qué tal!\"\n",
    "   - float (Punto flotante): Números con parte decimal. Ej.: 3.14 o pi\n",
    "   - bool (Booleano): Valores lógicos True o False.\n",
    "   - list (Lista): Secuencia mutable de elementos. Ej.: [1, 2, 3]\n",
    "   - dict (Diccionario): Pares clave-valor. \n",
    "         Ej.: {\"nombre\": \"Ana\", \"edad\": 25}\n",
    "   - tuple (Tupla): Secuencia inmutable. Ej.: (1, 2, 3)\n",
    "   - NoneType: Representa ausencia de valor. Ej.: None\n",
    "\n",
    "    \n",
    "6.3. Sensibilidad a mayúsculas y minúsculas: \n",
    "    'Variable' y 'variable' son nombres distintos.\n",
    "    \n",
    "6.4. Indentación obligatoria: \n",
    "    Se usan espacios (recomendado 4) o tabulaciones para definir bloques.\n",
    "\n",
    "6.5. Comentarios:\n",
    "   - Una línea: usando \"#\".\n",
    "   - Varias líneas: usando comillas triples \n",
    "\n",
    "6.6. Nombres de variables:\n",
    "   - Deben empezar con letra o guion bajo.\n",
    "   - Pueden contener letras, números y guion bajo, pero no espacios.\n",
    "   - Evitar palabras reservadas (if, for, while, etc.).\n",
    "\n",
    "6.7. Sentencias:\n",
    "   - Generalmente una por línea, pero pueden separarse con ';' o unirse con '\\'.\n",
    "\n",
    "6.8. Cadenas de texto:\n",
    "   - Se definen con comillas simples (' '), dobles (\" \") o triples para varias \n",
    "   líneas.\n",
    "\n",
    "6.9. Bloques de código:\n",
    "   - No se usan llaves '{}' como en otros lenguajes, sino indentación.\n",
    "\n",
    "6.10. Uso de paréntesis:\n",
    "   - Para llamadas a funciones, agrupar operaciones o definir tuplas.\n",
    "   \n",
    "Para visualizar las diversas partes que componen la sintaxis, veamos este ejemplo:"
   ]
  },
  {
   "cell_type": "markdown",
   "metadata": {},
   "source": [
    "Ejemplo 1 \n",
    "1. Instalamos pandas (solo es necesario hacerlo una vez en el entorno)\n",
    "Se ejecuta en la terminal o consola:\n",
    "pip install pandas openpyxl"
   ]
  },
  {
   "cell_type": "code",
   "execution_count": 7,
   "metadata": {},
   "outputs": [
    {
     "name": "stdout",
     "output_type": "stream",
     "text": [
      "            Edad  Libros_leidos\n",
      "count   4.000000       4.000000\n",
      "mean   25.000000      13.000000\n",
      "std     3.559026       5.715476\n",
      "min    22.000000       7.000000\n",
      "25%    22.750000       9.250000\n",
      "50%    24.000000      12.500000\n",
      "75%    26.250000      16.250000\n",
      "max    30.000000      20.000000\n",
      "--------------------------------------------------\n"
     ]
    }
   ],
   "source": [
    "print(data_libros.describe()) #Puedes visualizar esta matriz en el Terminal de IPython\n",
    "print(\"-\" * 50)"
   ]
  },
  {
   "cell_type": "markdown",
   "metadata": {},
   "source": [
    "2. Cargamos el archivo Excel en un \"DataFrame\" (objeto de pandas para manejar bases de datos)\n",
    "#Asegúrate de gestionar todos los archivos descargables en carpetas identificables"
   ]
  },
  {
   "cell_type": "code",
   "execution_count": 8,
   "metadata": {},
   "outputs": [
    {
     "name": "stdout",
     "output_type": "stream",
     "text": [
      "--------------------------------------------------\n"
     ]
    }
   ],
   "source": [
    "data1 = pd.read_excel(\"DemocracyIndex_2024.xlsx\") \n",
    "print(\"-\" * 50)"
   ]
  },
  {
   "cell_type": "markdown",
   "metadata": {},
   "source": [
    "3. Verificamos el tipo de objeto con la función \"type()\""
   ]
  },
  {
   "cell_type": "markdown",
   "metadata": {},
   "source": [
    "Resultado esperado: <class 'pandas.core.frame.DataFrame'>"
   ]
  },
  {
   "cell_type": "code",
   "execution_count": 9,
   "metadata": {},
   "outputs": [
    {
     "name": "stdout",
     "output_type": "stream",
     "text": [
      "Verificamos el tipo de objeto\n",
      "<class 'pandas.core.frame.DataFrame'>\n",
      "   Country  Overall_score Global_Rank  Regional_rank  \\\n",
      "0  Algeria           3.55         110              5   \n",
      "1  Bahrain           2.45         138             14   \n",
      "2    Egypt           2.79        128=             12   \n",
      "3     Iran           1.96         154             17   \n",
      "4     Iraq           2.80        126=             11   \n",
      "\n",
      "   I_Electoral_process_pluralism  II_Functioning_of_government  \\\n",
      "0                           3.08                          2.50   \n",
      "1                           0.42                          2.36   \n",
      "2                           0.42                          2.86   \n",
      "3                           0.00                          2.50   \n",
      "4                           4.83                          0.00   \n",
      "\n",
      "   III_Political_participation  IV_Political_culture  V_Civil_liberties  \\\n",
      "0                         3.33                  5.00               3.82   \n",
      "1                         3.33                  4.38               1.76   \n",
      "2                         3.89                  5.00               1.76   \n",
      "3                         3.33                  2.50               1.47   \n",
      "4                         6.11                  1.88               1.18   \n",
      "\n",
      "     Regime_type       Region  \n",
      "0  Authoritarian  Middle East  \n",
      "1  Authoritarian  Middle East  \n",
      "2  Authoritarian  Middle East  \n",
      "3  Authoritarian  Middle East  \n",
      "4  Authoritarian  Middle East  \n",
      "--------------------------------------------------\n"
     ]
    }
   ],
   "source": [
    "print(\"Verificamos el tipo de objeto\") \n",
    "print(type(data1))\n",
    "print(data1.head()) #Para asegurarnos que cargo bien pedimos las 10 primeras filas\n",
    "print(\"-\" * 50)"
   ]
  },
  {
   "cell_type": "markdown",
   "metadata": {},
   "source": [
    "4. Acceder a una variable (columna) específica del DataFrame"
   ]
  },
  {
   "cell_type": "code",
   "execution_count": 10,
   "metadata": {},
   "outputs": [
    {
     "name": "stdout",
     "output_type": "stream",
     "text": [
      "Acceder a una variable específica\n",
      "--------------------------------------------------\n"
     ]
    }
   ],
   "source": [
    "print(\"Acceder a una variable específica\") \n",
    "Tipo_regimen = data1[\"Regime_type\"] #La columna que veremos es del tipo de régimen\n",
    "print(\"-\" * 50)"
   ]
  },
  {
   "cell_type": "markdown",
   "metadata": {},
   "source": [
    "5. Verificar el tipo de la variable"
   ]
  },
  {
   "cell_type": "markdown",
   "metadata": {},
   "source": [
    "Resultado esperado: <class 'str'> donde str significa string o cadena"
   ]
  },
  {
   "cell_type": "code",
   "execution_count": 11,
   "metadata": {},
   "outputs": [
    {
     "name": "stdout",
     "output_type": "stream",
     "text": [
      "Verificar el tipo de la variable\n",
      "<class 'str'>\n",
      "--------------------------------------------------\n"
     ]
    }
   ],
   "source": [
    "print(\"Verificar el tipo de la variable\") \n",
    "print(type(\"Regime_type\"))\n",
    "print(\"-\" * 50)"
   ]
  },
  {
   "cell_type": "markdown",
   "metadata": {},
   "source": [
    "7. Análisis descriptivo en Python\n",
    "\n",
    "Nuestra pregunta de investigación para hoy: \n",
    "    ¿Cuál es el estado de la democracia en el mundo?\n",
    "\n",
    "El índice de democracia (Democracy Index) es un índice que mide la calidad de \n",
    "la democracia en el mundo. Mide diversas categorías como libertades civiles, \n",
    "cultura política, pluralismo electoral, etc. A partir de estas variables, \n",
    "se obtiene un puntaje promedio, el cual determina el puesto del país a nivel \n",
    "mundial, así como el tipo de régimen que tiene cada uno.\n",
    "\n",
    "En esta ocasión, usaremos la base de datos del informe de 2024, publicado por \n",
    "The Economist Inteligence Unit (EIU). \n",
    "\n",
    "\n",
    "Ahora, toca responder la pregunta de investigación.\n",
    "\n",
    "¡A trabajar!"
   ]
  },
  {
   "cell_type": "markdown",
   "metadata": {},
   "source": [
    "Primero, revisaremos qué columnas conforma nuestro dataframe"
   ]
  },
  {
   "cell_type": "code",
   "execution_count": 12,
   "metadata": {},
   "outputs": [
    {
     "name": "stdout",
     "output_type": "stream",
     "text": [
      "Títulos de las columnas\n",
      "['Country' 'Overall_score' 'Global_Rank' 'Regional_rank'\n",
      " 'I_Electoral_process_pluralism' 'II_Functioning_of_government'\n",
      " 'III_Political_participation' 'IV_Political_culture' 'V_Civil_liberties'\n",
      " 'Regime_type' 'Region']\n",
      "--------------------------------------------------\n"
     ]
    }
   ],
   "source": [
    "print(\"Títulos de las columnas\") #Podemos agregar un título a cada operación\n",
    "print(data1.columns.values)\n",
    "print(\"-\" * 50) #Solo para separar las secciones, es un recurso de estilo"
   ]
  },
  {
   "cell_type": "markdown",
   "metadata": {},
   "source": [
    "Segundo, veremos qué tipo de datos se encuentran en estas columnas"
   ]
  },
  {
   "cell_type": "code",
   "execution_count": 13,
   "metadata": {},
   "outputs": [
    {
     "name": "stdout",
     "output_type": "stream",
     "text": [
      "Tipos de datos\n",
      "Country                           object\n",
      "Overall_score                    float64\n",
      "Global_Rank                       object\n",
      "Regional_rank                      int64\n",
      "I_Electoral_process_pluralism    float64\n",
      "II_Functioning_of_government     float64\n",
      "III_Political_participation      float64\n",
      "IV_Political_culture             float64\n",
      "V_Civil_liberties                float64\n",
      "Regime_type                       object\n",
      "Region                            object\n",
      "dtype: object\n",
      "--------------------------------------------------\n"
     ]
    }
   ],
   "source": [
    "print(\"Tipos de datos\")\n",
    "print(data1.dtypes)\n",
    "print(\"-\" * 50)"
   ]
  },
  {
   "cell_type": "markdown",
   "metadata": {},
   "source": [
    "Tercero, pediremos estadísticas descriptivas de las columnas numéricas"
   ]
  },
  {
   "cell_type": "code",
   "execution_count": 14,
   "metadata": {},
   "outputs": [
    {
     "name": "stdout",
     "output_type": "stream",
     "text": [
      "Estadísticas descriptivas valores numéricos\n",
      "       Overall_score  Regional_rank  I_Electoral_process_pluralism  \\\n",
      "count     147.000000     147.000000                     147.000000   \n",
      "mean        5.226735      15.115646                       5.479116   \n",
      "std         2.521223      10.204429                       4.086742   \n",
      "min         0.250000       1.000000                       0.000000   \n",
      "25%         2.790000       7.000000                       0.420000   \n",
      "50%         5.350000      14.000000                       6.920000   \n",
      "75%         7.490000      21.000000                       9.580000   \n",
      "max         9.810000      44.000000                      10.000000   \n",
      "\n",
      "       II_Functioning_of_government  III_Political_participation  \\\n",
      "count                    147.000000                   147.000000   \n",
      "mean                       4.644762                     5.385578   \n",
      "std                        2.730629                     2.138216   \n",
      "min                        0.000000                     0.000000   \n",
      "25%                        2.500000                     3.890000   \n",
      "50%                        5.000000                     5.560000   \n",
      "75%                        6.790000                     6.945000   \n",
      "max                        9.640000                    10.000000   \n",
      "\n",
      "       IV_Political_culture  V_Civil_liberties  \n",
      "count            147.000000         147.000000  \n",
      "mean               5.227891           5.397619  \n",
      "std                2.008579           2.975379  \n",
      "min                1.250000           0.000000  \n",
      "25%                3.750000           2.650000  \n",
      "50%                5.000000           5.590000  \n",
      "75%                6.880000           8.240000  \n",
      "max               10.000000          10.000000  \n",
      "--------------------------------------------------\n"
     ]
    }
   ],
   "source": [
    "print(\"Estadísticas descriptivas valores numéricos\")\n",
    "print(data1.describe())\n",
    "print(\"-\" * 50)"
   ]
  },
  {
   "cell_type": "markdown",
   "metadata": {},
   "source": [
    "Otras funciones útiles"
   ]
  },
  {
   "cell_type": "markdown",
   "metadata": {},
   "source": [
    "Mostrar información general: tipos de datos, número de valores no nulos, memoria usada"
   ]
  },
  {
   "cell_type": "code",
   "execution_count": 15,
   "metadata": {},
   "outputs": [
    {
     "name": "stdout",
     "output_type": "stream",
     "text": [
      "Info general:\n",
      "<class 'pandas.core.frame.DataFrame'>\n",
      "RangeIndex: 147 entries, 0 to 146\n",
      "Data columns (total 11 columns):\n",
      " #   Column                         Non-Null Count  Dtype  \n",
      "---  ------                         --------------  -----  \n",
      " 0   Country                        147 non-null    object \n",
      " 1   Overall_score                  147 non-null    float64\n",
      " 2   Global_Rank                    147 non-null    object \n",
      " 3   Regional_rank                  147 non-null    int64  \n",
      " 4   I_Electoral_process_pluralism  147 non-null    float64\n",
      " 5   II_Functioning_of_government   147 non-null    float64\n",
      " 6   III_Political_participation    147 non-null    float64\n",
      " 7   IV_Political_culture           147 non-null    float64\n",
      " 8   V_Civil_liberties              147 non-null    float64\n",
      " 9   Regime_type                    147 non-null    object \n",
      " 10  Region                         147 non-null    object \n",
      "dtypes: float64(6), int64(1), object(4)\n",
      "memory usage: 12.8+ KB\n",
      "None\n",
      "--------------------------------------------------\n"
     ]
    }
   ],
   "source": [
    "print(\"Info general:\")\n",
    "print(data1.info())\n",
    "print(\"-\" * 50)"
   ]
  },
  {
   "cell_type": "markdown",
   "metadata": {},
   "source": [
    "Mostrar estadísticas también para columnas categóricas (tipo object)"
   ]
  },
  {
   "cell_type": "code",
   "execution_count": 16,
   "metadata": {},
   "outputs": [
    {
     "name": "stdout",
     "output_type": "stream",
     "text": [
      "Estadísticas descriptiivas no num.\n",
      "        Country  Global_Rank    Regime_type              Region\n",
      "count       147          147            147                 147\n",
      "unique      147          139              4                   7\n",
      "top     Algeria          156  Authoritarian  Asia & Australasia\n",
      "freq          1            2             53                  28\n",
      "--------------------------------------------------\n"
     ]
    }
   ],
   "source": [
    "print(\"Estadísticas descriptiivas no num.\")\n",
    "print(data1.describe(include='object'))\n",
    "print(\"-\" * 50)"
   ]
  },
  {
   "cell_type": "markdown",
   "metadata": {},
   "source": [
    "Contar valores faltantes por columna"
   ]
  },
  {
   "cell_type": "code",
   "execution_count": 17,
   "metadata": {},
   "outputs": [
    {
     "name": "stdout",
     "output_type": "stream",
     "text": [
      "Cantidad de valores nulos por columna\n",
      "Country                          0\n",
      "Overall_score                    0\n",
      "Global_Rank                      0\n",
      "Regional_rank                    0\n",
      "I_Electoral_process_pluralism    0\n",
      "II_Functioning_of_government     0\n",
      "III_Political_participation      0\n",
      "IV_Political_culture             0\n",
      "V_Civil_liberties                0\n",
      "Regime_type                      0\n",
      "Region                           0\n",
      "dtype: int64\n",
      "--------------------------------------------------\n"
     ]
    }
   ],
   "source": [
    "print(\"Cantidad de valores nulos por columna\")\n",
    "print(data1.isna().sum())\n",
    "print(\"-\" * 50)"
   ]
  },
  {
   "cell_type": "markdown",
   "metadata": {},
   "source": [
    "7.1. ¿Cuál es la distribución de países por régimen?\n",
    "\n",
    "Antes de comenzar a realizar nuestro análisis, debemos identificar la \n",
    "estructura de las variables y verificar que estén bien configuradas. Es decir \n",
    "que la escala de la variable coincida con el objeto en Python.\n",
    "\n",
    "Por ejemplo, debemos asegurarnos que una variable categórica no esté configurada \n",
    "como numérica en Python, y viceversa.\n",
    "\n",
    "Variable “Regime_type”:\n",
    "\n",
    "Queremos saber el tipo de régimen de cada país observado. Para ello, realizamos \n",
    "el análisis de la variable.\n",
    "\n",
    "Lo que queremos crear es una tabla de frecuencias. Necesitamos que cuente los \n",
    "casos (en esta data cada caso es un país) según cada categoría. En otras \n",
    "palabras, cuántos países hay por cada régimen."
   ]
  },
  {
   "cell_type": "markdown",
   "metadata": {},
   "source": [
    "Agrupar por la columna 'Regime_type' y contar el número de filas en cada grupo"
   ]
  },
  {
   "cell_type": "code",
   "execution_count": 18,
   "metadata": {},
   "outputs": [],
   "source": [
    "frecuencia = data1.groupby(\"Regime_type\").size().reset_index(name=\"Freq\")"
   ]
  },
  {
   "cell_type": "markdown",
   "metadata": {},
   "source": [
    "Mostrar el resultado"
   ]
  },
  {
   "cell_type": "code",
   "execution_count": 19,
   "metadata": {},
   "outputs": [
    {
     "name": "stdout",
     "output_type": "stream",
     "text": [
      "        Regime_type  Freq\n",
      "0     Authoritarian    53\n",
      "1  Flawed democracy    43\n",
      "2    Full democracy    24\n",
      "3     Hybrid regime    27\n",
      "--------------------------------------------------\n"
     ]
    }
   ],
   "source": [
    "print(frecuencia)\n",
    "print(\"-\" * 50)"
   ]
  },
  {
   "cell_type": "markdown",
   "metadata": {},
   "source": [
    "Se observa que, de los países analizados en el índice de la democracia, \n",
    "53 países son considerados como Autoritarismo, 27 como Regímenes híbridos, \n",
    "43 como Democracia imperfecta y solo 24 como Democracia Plena."
   ]
  },
  {
   "cell_type": "markdown",
   "metadata": {},
   "source": [
    "Creemos un gráfico de barras para visualizar mejor los países por tipo de régimen.\n",
    "\n",
    "Ya creamos anteriormente la tabla de frecuencias, pero esta no fue agregada al \n",
    "environment. Para hacerlo necesitamos guardarla con un nombre. Necesitamos que \n",
    "tenga uno para poder referirnos a ella al hacer el gráfico. Para ello le agregamos \n",
    "al código anterior un “=” y antes del asignado irá el nombre del \n",
    "objeto nuevo “para_grafico”."
   ]
  },
  {
   "cell_type": "markdown",
   "metadata": {},
   "source": [
    "Crear tabla de frecuencias"
   ]
  },
  {
   "cell_type": "code",
   "execution_count": 20,
   "metadata": {},
   "outputs": [],
   "source": [
    "para_grafico = data1.groupby(\"Regime_type\").size().reset_index(name=\"Freq\")"
   ]
  },
  {
   "cell_type": "markdown",
   "metadata": {},
   "source": [
    "Mostrar resultado"
   ]
  },
  {
   "cell_type": "code",
   "execution_count": 21,
   "metadata": {},
   "outputs": [
    {
     "name": "stdout",
     "output_type": "stream",
     "text": [
      "        Regime_type  Freq\n",
      "0     Authoritarian    53\n",
      "1  Flawed democracy    43\n",
      "2    Full democracy    24\n",
      "3     Hybrid regime    27\n"
     ]
    }
   ],
   "source": [
    "print(para_grafico)"
   ]
  },
  {
   "cell_type": "markdown",
   "metadata": {},
   "source": [
    "Es necesario llamar al paquete solo una vez y se podrá usar en las líneas que \n",
    "vayan después del llamado."
   ]
  },
  {
   "cell_type": "code",
   "execution_count": 22,
   "metadata": {},
   "outputs": [],
   "source": [
    "import seaborn as sns\n",
    "import matplotlib.pyplot as plt"
   ]
  },
  {
   "cell_type": "markdown",
   "metadata": {},
   "source": [
    "Gráfico de barras"
   ]
  },
  {
   "cell_type": "code",
   "execution_count": 27,
   "metadata": {},
   "outputs": [
    {
     "data": {
      "text/plain": [
       "<Axes: xlabel='Regime_type', ylabel='Freq'>"
      ]
     },
     "execution_count": 27,
     "metadata": {},
     "output_type": "execute_result"
    },
    {
     "data": {
      "image/png": "[encoded data removed]",
      "text/plain": [
       "<Figure size 640x480 with 1 Axes>"
      ]
     },
     "metadata": {},
     "output_type": "display_data"
    }
   ],
   "source": [
    "sns.barplot(data=para_grafico, x=\"Regime_type\", y=\"Freq\", hue=\"Regime_type\")"
   ]
  },
  {
   "cell_type": "markdown",
   "metadata": {},
   "source": [
    "Lo que estamos haciendo con este código es usar el comando seaborn que es el \n",
    "que permite hacer gráfico y le indicamos que usaremos la base de datos para_grafico. \n",
    "De ella, en el eje X del gráfico irá la variable Regime_type, en el eje Y \n",
    "la frecuencia (Freq) y el relleno será Regime_type. Esto último es para que cada \n",
    "barra tenga un color según su valor.\n",
    "\n",
    "Adaptemos el diseño del gráfico y agreguemos etiquetas, títulos, y tema. Esto lo\n",
    "haremos con matplotlib"
   ]
  },
  {
   "cell_type": "markdown",
   "metadata": {},
   "source": [
    "Mejoras estéticas"
   ]
  },
  {
   "cell_type": "code",
   "execution_count": 35,
   "metadata": {},
   "outputs": [
    {
     "data": {
      "image/png": "[encoded data removed]",
      "text/plain": [
       "<Figure size 640x480 with 1 Axes>"
      ]
     },
     "metadata": {},
     "output_type": "display_data"
    }
   ],
   "source": [
    "sns.barplot(data=para_grafico, x=\"Regime_type\", y=\"Freq\", hue=\"Regime_type\")\n",
    "plt.title(\"Frecuencia por tipo de regimen\") #Su título\n",
    "plt.xlabel(\"Tipo de regimen\") #Etiqueta del eje X\n",
    "plt.ylabel(\"Frecuencia\") #Eqtiqueta del eje Y\n",
    "plt.xticks(rotation=45)  # Girar etiquetas si son largas\n",
    "plt.legend(title=\"Tipo de regimen\") #Etiqueta de la leyenda\n",
    "plt.show() # Que nos muestre el gráfico"
   ]
  },
  {
   "cell_type": "markdown",
   "metadata": {},
   "source": [
    "7.2 ¿Cuáles son las medidas de tendencia central del indicador de democracia \n",
    "de los países?\n",
    "\n",
    "Entonces, una vez configurados adecuadamente nuestros objetos, pidamos los \n",
    "estadísticos de tendencia central para nuestras variables de interés.\n",
    "\n",
    "¿Cuál es el promedio del puntaje de todos los países analizados?\n",
    "\n",
    "Para ello, usamos el comando mean que significa “media o promedio”. \n",
    "Recuerda que summarise siempre debe incluir el tipo de resumen o el \n",
    "estadístico que necesitamos."
   ]
  },
  {
   "cell_type": "markdown",
   "metadata": {},
   "source": [
    "Calcular la media de la columna 'Overall_score'"
   ]
  },
  {
   "cell_type": "markdown",
   "metadata": {},
   "source": [
    "La media es: 5.226735"
   ]
  },
  {
   "cell_type": "code",
   "execution_count": 36,
   "metadata": {},
   "outputs": [
    {
     "name": "stdout",
     "output_type": "stream",
     "text": [
      "--------------------------------------------------\n"
     ]
    }
   ],
   "source": [
    "media = data1[\"Overall_score\"].mean()\n",
    "print(\"-\" * 50)"
   ]
  },
  {
   "cell_type": "markdown",
   "metadata": {},
   "source": [
    "Si quieres un DataFrame como salida"
   ]
  },
  {
   "cell_type": "code",
   "execution_count": 37,
   "metadata": {},
   "outputs": [],
   "source": [
    "media_df = pd.DataFrame({\"media\": [media]})"
   ]
  },
  {
   "cell_type": "code",
   "execution_count": 38,
   "metadata": {},
   "outputs": [
    {
     "name": "stdout",
     "output_type": "stream",
     "text": [
      "      media\n",
      "0  5.226735\n",
      "--------------------------------------------------\n"
     ]
    }
   ],
   "source": [
    "print(media_df)\n",
    "print(\"-\" * 50)"
   ]
  },
  {
   "cell_type": "markdown",
   "metadata": {},
   "source": [
    "Calcular la mediana de la columna 'Overall_score'"
   ]
  },
  {
   "cell_type": "code",
   "execution_count": 39,
   "metadata": {},
   "outputs": [],
   "source": [
    "mediana = data1[\"Overall_score\"].median()"
   ]
  },
  {
   "cell_type": "markdown",
   "metadata": {},
   "source": [
    "Si quieres que el resultado sea un DataFrame"
   ]
  },
  {
   "cell_type": "code",
   "execution_count": 40,
   "metadata": {},
   "outputs": [],
   "source": [
    "mediana_df = pd.DataFrame({\"mediana\": [mediana]})"
   ]
  },
  {
   "cell_type": "markdown",
   "metadata": {},
   "source": [
    "La mediana es: 5.35"
   ]
  },
  {
   "cell_type": "code",
   "execution_count": 41,
   "metadata": {},
   "outputs": [
    {
     "name": "stdout",
     "output_type": "stream",
     "text": [
      "   mediana\n",
      "0     5.35\n"
     ]
    }
   ],
   "source": [
    "print(mediana_df)"
   ]
  },
  {
   "cell_type": "markdown",
   "metadata": {},
   "source": [
    "Este resultado quiere decir que el puntaje promedio de democracia de todos los \n",
    "países analizados es de 5.23 puntos.\n",
    "\n",
    "En segundo lugar, calculamos la mediana de los puntajes. Esta medida es más \n",
    "robusta que la media, pues resiste valores extremos.\n",
    "\n",
    "Esto quiere decir que, hasta la mitad de países analizados tienen una puntuación \n",
    "de hasta 5.22 puntos."
   ]
  },
  {
   "cell_type": "markdown",
   "metadata": {},
   "source": [
    "Grafiquemos\n",
    "Como la variable Overall_score es numérica, esta vez pediremos un histograma."
   ]
  },
  {
   "cell_type": "markdown",
   "metadata": {},
   "source": [
    "Histograma de la columna 'Overall_score'"
   ]
  },
  {
   "cell_type": "markdown",
   "metadata": {},
   "source": [
    "bins ajusta el número de barras"
   ]
  },
  {
   "cell_type": "code",
   "execution_count": 42,
   "metadata": {},
   "outputs": [
    {
     "data": {
      "image/png": "[encoded data removed]",
      "text/plain": [
       "<Figure size 640x480 with 1 Axes>"
      ]
     },
     "metadata": {},
     "output_type": "display_data"
    }
   ],
   "source": [
    "plt.hist(data1[\"Overall_score\"], bins=10, edgecolor=\"black\")  \n",
    "plt.xlabel(\"Overall_score\")\n",
    "plt.ylabel(\"Frecuencia\")\n",
    "plt.title(\"Histograma de Overall Score\")\n",
    "plt.show()"
   ]
  },
  {
   "cell_type": "markdown",
   "metadata": {},
   "source": [
    "El histograma revela una distribución bimodal, con picos situados aproximadamente \n",
    "en los 2 y 6 puntos del índice de democracia.\n",
    "Esto sugiere la existencia de dos grupos bien diferenciados de países:\n",
    "- Democracias plenas o defectuosas, con puntajes altos.\n",
    "- Regímenes híbridos o autoritarios, con puntajes bajos.\n",
    "\n",
    "Asimismo, el gráfico muestra un sesgo negativo, evidenciado por una cola de \n",
    "datos extendida hacia la izquierda. Esto indica que un número significativo de \n",
    "países presenta valores considerablemente bajos, lo que reduce el promedio general."
   ]
  },
  {
   "cell_type": "markdown",
   "metadata": {},
   "source": [
    "Ejercicio 1:\n",
    "Ahora tú, practica calculando el promedio por región"
   ]
  },
  {
   "cell_type": "code",
   "execution_count": 43,
   "metadata": {},
   "outputs": [
    {
     "name": "stdout",
     "output_type": "stream",
     "text": [
      "                          Region     Media\n",
      "0             Asia & Australasia  5.313929\n",
      "1  Eastern Europe & Central Asia  5.348571\n",
      "2                  Latin America  5.606667\n",
      "3                    Middle East  3.125000\n",
      "4                  North America  8.270000\n",
      "5             Sub-Saharan Africa  3.342500\n",
      "6                 Western Europe  8.379048\n",
      "--------------------------------------------------\n"
     ]
    }
   ],
   "source": [
    "media_reg = data1.groupby(\"Region\")[\"Overall_score\"].mean().reset_index(name=\"Media\")\n",
    "print(media_reg)\n",
    "print(\"-\" * 50)"
   ]
  },
  {
   "cell_type": "markdown",
   "metadata": {},
   "source": [
    "Ejercicio 2:\n",
    "Realiza la misma operación pero usando la mediana"
   ]
  },
  {
   "cell_type": "code",
   "execution_count": 44,
   "metadata": {},
   "outputs": [
    {
     "name": "stdout",
     "output_type": "stream",
     "text": [
      "                          Region  Mediana\n",
      "0             Asia & Australasia    6.075\n",
      "1  Eastern Europe & Central Asia    6.120\n",
      "2                  Latin America    6.015\n",
      "3                    Middle East    2.925\n",
      "4                  North America    8.270\n",
      "5             Sub-Saharan Africa    2.650\n",
      "6                 Western Europe    8.340\n",
      "--------------------------------------------------\n"
     ]
    }
   ],
   "source": [
    "mediana_reg = data1.groupby(\"Region\")[\"Overall_score\"].median().reset_index(name=\"Mediana\")\n",
    "print(mediana_reg)\n",
    "print(\"-\" * 50)"
   ]
  },
  {
   "cell_type": "markdown",
   "metadata": {},
   "source": [
    "Explicación paso a paso:\n",
    "\n",
    "- groupby(\"Region\") : agrupa el DataFrame por cada valor de la columna Región.\n",
    "\n",
    "- [\"Overall_score\"] : selecciona solo la columna numérica que queremos promediar.\n",
    "\n",
    "- .mean() o .median() :  calcula la media o mediana para cada grupo.\n",
    "\n",
    "- .reset_index(name=\"Media\") :  devuelve el resultado en forma de tabla ordenada \n",
    "con un nombre de columna claro."
   ]
  },
  {
   "cell_type": "markdown",
   "metadata": {},
   "source": [
    "Tabla resumen con media y mediana por región"
   ]
  },
  {
   "cell_type": "code",
   "execution_count": 45,
   "metadata": {},
   "outputs": [],
   "source": [
    "resumen_reg = (\n",
    "    data1\n",
    "    .groupby(\"Region\")[\"Overall_score\"]\n",
    "    .agg(Media=\"mean\", Mediana=\"median\")\n",
    "    .reset_index()\n",
    ")"
   ]
  },
  {
   "cell_type": "code",
   "execution_count": 46,
   "metadata": {},
   "outputs": [
    {
     "name": "stdout",
     "output_type": "stream",
     "text": [
      "                          Region     Media  Mediana\n",
      "0             Asia & Australasia  5.313929    6.075\n",
      "1  Eastern Europe & Central Asia  5.348571    6.120\n",
      "2                  Latin America  5.606667    6.015\n",
      "3                    Middle East  3.125000    2.925\n",
      "4                  North America  8.270000    8.270\n",
      "5             Sub-Saharan Africa  3.342500    2.650\n",
      "6                 Western Europe  8.379048    8.340\n"
     ]
    }
   ],
   "source": [
    "print(resumen_reg)"
   ]
  },
  {
   "cell_type": "markdown",
   "metadata": {},
   "source": [
    "Ejercicio 3: Escojan una variable numérica que no hayamos utilizado y \n",
    "hallen la mediana y la media de dicha variable, por continente."
   ]
  }
 ],
 "metadata": {
  "kernelspec": {
   "display_name": "Python 3 (ipykernel)",
   "language": "python",
   "name": "python3"
  },
  "language_info": {
   "codemirror_mode": {
    "name": "ipython",
    "version": 3
   },
   "file_extension": ".py",
   "mimetype": "text/x-python",
   "name": "python",
   "nbconvert_exporter": "python",
   "pygments_lexer": "ipython3",
   "version": "3.11.5"
  }
 },
 "nbformat": 4,
 "nbformat_minor": 2
}
